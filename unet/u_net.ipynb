{
 "cells": [
  {
   "cell_type": "markdown",
   "metadata": {},
   "source": [
    "# U-NET TRAINING"
   ]
  },
  {
   "cell_type": "markdown",
   "metadata": {},
   "source": [
    "### Imports"
   ]
  },
  {
   "cell_type": "code",
   "execution_count": 1,
   "metadata": {},
   "outputs": [],
   "source": [
    "import torch\n",
    "import torch.nn as nn\n",
    "from torch.utils.data import Dataset, DataLoader\n",
    "from torchvision import transforms\n",
    "import torch.optim as optim\n",
    "import torch.nn.functional as F\n",
    "from tqdm import tqdm \n",
    "from torchmetrics import Accuracy\n",
    "\n",
    "import os\n",
    "\n",
    "from PIL import Image\n",
    "import numpy as np"
   ]
  },
  {
   "cell_type": "markdown",
   "metadata": {},
   "source": [
    "### Dataset class and Dataloader"
   ]
  },
  {
   "cell_type": "code",
   "execution_count": 2,
   "metadata": {},
   "outputs": [],
   "source": [
    "class SegmentationDataset(Dataset):\n",
    "    def __init__(self, image_dir, mask_dir, image_transform=None, mask_transform=None):\n",
    "        self.image_dir = image_dir\n",
    "        self.mask_dir = mask_dir\n",
    "        self.image_filenames = sorted(os.listdir(image_dir))\n",
    "        self.mask_filenames = sorted(os.listdir(mask_dir))\n",
    "        self.image_transform = image_transform\n",
    "        self.mask_transform = mask_transform\n",
    "\n",
    "    def __len__(self):\n",
    "        return len(self.image_filenames)\n",
    "\n",
    "    def __getitem__(self, idx):\n",
    "        image_path = os.path.join(self.image_dir, self.image_filenames[idx])\n",
    "        mask_path = os.path.join(self.mask_dir, self.mask_filenames[idx])\n",
    "\n",
    "        image = Image.open(image_path).convert(\"RGB\")  \n",
    "        mask = Image.open(mask_path).convert(\"L\")  \n",
    "\n",
    "        if self.image_transform:\n",
    "            image = self.image_transform(image)\n",
    "        if self.mask_transform:\n",
    "            mask = self.mask_transform(mask)\n",
    "\n",
    "        return image, mask\n",
    "\n",
    "image_transform = transforms.Compose([\n",
    "    transforms.RandomResizedCrop(224, scale=(0.875, 1.0)), \n",
    "    transforms.RandomHorizontalFlip(),\n",
    "    transforms.ColorJitter(brightness=0.2, contrast=0.2, saturation=0.2, hue=0.2),\n",
    "    transforms.ToTensor(),\n",
    "    transforms.Normalize(mean=[0.485, 0.456, 0.406], std=[0.229, 0.224, 0.225]),\n",
    "])\n",
    "\n",
    "mask_transform = transforms.Compose([\n",
    "    transforms.RandomResizedCrop(224, scale=(0.875, 1.0)),\n",
    "    transforms.RandomHorizontalFlip(),\n",
    "    transforms.ToTensor(),\n",
    "])\n",
    "\n",
    "train_dataset = SegmentationDataset(\n",
    "    image_dir=\"data/seg/train/images\", mask_dir=\"data/seg/train/masks\", image_transform=image_transform, mask_transform=mask_transform\n",
    ")\n",
    "val_dataset = SegmentationDataset(\n",
    "    image_dir=\"data/seg/val/images\", mask_dir=\"data/seg/val/masks\", image_transform=image_transform, mask_transform=mask_transform\n",
    ")\n",
    "\n",
    "train_loader = DataLoader(train_dataset, batch_size=8, shuffle=True)\n",
    "val_loader = DataLoader(val_dataset, batch_size=8, shuffle=False)"
   ]
  },
  {
   "cell_type": "markdown",
   "metadata": {},
   "source": [
    "### U-NET class"
   ]
  },
  {
   "cell_type": "code",
   "execution_count": 3,
   "metadata": {},
   "outputs": [],
   "source": [
    "import torch\n",
    "import torch.nn as nn\n",
    "import torch.nn.functional as F\n",
    "\n",
    "class UNet(nn.Module):\n",
    "    def __init__(self, in_channels=3, out_channels=1):\n",
    "        super(UNet, self).__init__()\n",
    "        \n",
    "        self.enc1 = self.conv_block(in_channels, 64)\n",
    "        self.enc2 = self.conv_block(64, 128)\n",
    "        self.enc3 = self.conv_block(128, 256)\n",
    "        self.enc4 = self.conv_block(256, 512)\n",
    "        self.enc5 = self.conv_block(512, 1024)\n",
    "\n",
    "        self.dec4 = self.conv_block(1024, 512)\n",
    "        self.dec3 = self.conv_block(512, 256)\n",
    "        self.dec2 = self.conv_block(256, 128)\n",
    "        self.dec1 = self.conv_block(128, 64)\n",
    "        \n",
    "        self.final = nn.Conv2d(64, out_channels, kernel_size=1)\n",
    "\n",
    "        self.pool = nn.MaxPool2d(2)\n",
    "\n",
    "    def conv_block(self, in_channels, out_channels):\n",
    "        return nn.Sequential(\n",
    "            nn.Conv2d(in_channels, out_channels, kernel_size=3, padding=1),\n",
    "            nn.ReLU(inplace=True),\n",
    "            nn.Conv2d(out_channels, out_channels, kernel_size=3, padding=1),\n",
    "            nn.ReLU(inplace=True)\n",
    "        )\n",
    "\n",
    "    def forward(self, x):\n",
    "        enc1 = self.enc1(x)\n",
    "        enc2 = self.enc2(self.pool(enc1))\n",
    "        enc3 = self.enc3(self.pool(enc2))\n",
    "        enc4 = self.enc4(self.pool(enc3))\n",
    "        enc5 = self.enc5(self.pool(enc4))\n",
    "\n",
    "        dec4 = self.dec4(F.interpolate(enc5, scale_factor=2, mode='bilinear', align_corners=True))\n",
    "        dec3 = self.dec3(F.interpolate(dec4, scale_factor=2, mode='bilinear', align_corners=True))\n",
    "        dec2 = self.dec2(F.interpolate(dec3, scale_factor=2, mode='bilinear', align_corners=True))\n",
    "        dec1 = self.dec1(F.interpolate(dec2, scale_factor=2, mode='bilinear', align_corners=True))\n",
    "\n",
    "        out = self.final(dec1)\n",
    "\n",
    "        return out\n",
    "\n",
    "model = UNet(in_channels=3, out_channels=1)  \n",
    "\n",
    "device = torch.device(\"cuda\" if torch.cuda.is_available() else \"cpu\")\n",
    "model = model.to(device)\n"
   ]
  },
  {
   "cell_type": "markdown",
   "metadata": {},
   "source": [
    "### Load the weights (skip if you haven't train the model yet)"
   ]
  },
  {
   "cell_type": "code",
   "execution_count": 4,
   "metadata": {},
   "outputs": [
    {
     "name": "stdout",
     "output_type": "stream",
     "text": [
      "Pretrained weights loaded successfully!\n"
     ]
    }
   ],
   "source": [
    "model.load_state_dict(torch.load(\"model/segmentation_weights.pth\", map_location=device))\n",
    "print(\"Pretrained weights loaded successfully!\")"
   ]
  },
  {
   "cell_type": "markdown",
   "metadata": {},
   "source": [
    "### Training loop"
   ]
  },
  {
   "cell_type": "code",
   "execution_count": 5,
   "metadata": {},
   "outputs": [
    {
     "name": "stderr",
     "output_type": "stream",
     "text": [
      "Epoch 1/54 - Training: 100%|██████████| 71/71 [20:34<00:00, 17.39s/batch, accuracy=0.887, loss=0.224]\n"
     ]
    },
    {
     "name": "stdout",
     "output_type": "stream",
     "text": [
      "Epoch 1/54, Loss: 0.2237, Accuracy: 0.8872\n"
     ]
    },
    {
     "name": "stderr",
     "output_type": "stream",
     "text": [
      "Epoch 1/54 - Validation: 100%|██████████| 18/18 [04:59<00:00, 16.64s/batch, accuracy=0.891, loss=0.215]\n"
     ]
    },
    {
     "name": "stdout",
     "output_type": "stream",
     "text": [
      "Validation Loss: 0.2153, Validation Accuracy: 0.8909\n"
     ]
    },
    {
     "name": "stderr",
     "output_type": "stream",
     "text": [
      "Epoch 2/54 - Training: 100%|██████████| 71/71 [03:20<00:00,  2.82s/batch, accuracy=0.89, loss=0.215] \n"
     ]
    },
    {
     "name": "stdout",
     "output_type": "stream",
     "text": [
      "Epoch 2/54, Loss: 0.2155, Accuracy: 0.8898\n"
     ]
    },
    {
     "name": "stderr",
     "output_type": "stream",
     "text": [
      "Epoch 2/54 - Validation: 100%|██████████| 18/18 [00:44<00:00,  2.46s/batch, accuracy=0.889, loss=0.219]\n"
     ]
    },
    {
     "name": "stdout",
     "output_type": "stream",
     "text": [
      "Validation Loss: 0.2194, Validation Accuracy: 0.8886\n"
     ]
    },
    {
     "name": "stderr",
     "output_type": "stream",
     "text": [
      "Epoch 3/54 - Training: 100%|██████████| 71/71 [03:16<00:00,  2.77s/batch, accuracy=0.886, loss=0.225]\n"
     ]
    },
    {
     "name": "stdout",
     "output_type": "stream",
     "text": [
      "Epoch 3/54, Loss: 0.2250, Accuracy: 0.8861\n"
     ]
    },
    {
     "name": "stderr",
     "output_type": "stream",
     "text": [
      "Epoch 3/54 - Validation: 100%|██████████| 18/18 [00:43<00:00,  2.39s/batch, accuracy=0.885, loss=0.227]\n"
     ]
    },
    {
     "name": "stdout",
     "output_type": "stream",
     "text": [
      "Validation Loss: 0.2271, Validation Accuracy: 0.8854\n",
      "Model weights saved at epoch 3\n"
     ]
    },
    {
     "name": "stderr",
     "output_type": "stream",
     "text": [
      "Epoch 4/54 - Training: 100%|██████████| 71/71 [03:16<00:00,  2.77s/batch, accuracy=0.888, loss=0.22] \n"
     ]
    },
    {
     "name": "stdout",
     "output_type": "stream",
     "text": [
      "Epoch 4/54, Loss: 0.2201, Accuracy: 0.8885\n"
     ]
    },
    {
     "name": "stderr",
     "output_type": "stream",
     "text": [
      "Epoch 4/54 - Validation: 100%|██████████| 18/18 [00:42<00:00,  2.37s/batch, accuracy=0.888, loss=0.218]\n"
     ]
    },
    {
     "name": "stdout",
     "output_type": "stream",
     "text": [
      "Validation Loss: 0.2182, Validation Accuracy: 0.8880\n"
     ]
    },
    {
     "name": "stderr",
     "output_type": "stream",
     "text": [
      "Epoch 5/54 - Training: 100%|██████████| 71/71 [03:21<00:00,  2.83s/batch, accuracy=0.891, loss=0.213]\n"
     ]
    },
    {
     "name": "stdout",
     "output_type": "stream",
     "text": [
      "Epoch 5/54, Loss: 0.2134, Accuracy: 0.8907\n"
     ]
    },
    {
     "name": "stderr",
     "output_type": "stream",
     "text": [
      "Epoch 5/54 - Validation: 100%|██████████| 18/18 [00:43<00:00,  2.42s/batch, accuracy=0.884, loss=0.225]\n"
     ]
    },
    {
     "name": "stdout",
     "output_type": "stream",
     "text": [
      "Validation Loss: 0.2250, Validation Accuracy: 0.8844\n"
     ]
    },
    {
     "name": "stderr",
     "output_type": "stream",
     "text": [
      "Epoch 6/54 - Training: 100%|██████████| 71/71 [03:18<00:00,  2.79s/batch, accuracy=0.889, loss=0.216]\n"
     ]
    },
    {
     "name": "stdout",
     "output_type": "stream",
     "text": [
      "Epoch 6/54, Loss: 0.2163, Accuracy: 0.8892\n"
     ]
    },
    {
     "name": "stderr",
     "output_type": "stream",
     "text": [
      "Epoch 6/54 - Validation: 100%|██████████| 18/18 [00:43<00:00,  2.40s/batch, accuracy=0.89, loss=0.215] \n"
     ]
    },
    {
     "name": "stdout",
     "output_type": "stream",
     "text": [
      "Validation Loss: 0.2153, Validation Accuracy: 0.8903\n",
      "Model weights saved at epoch 6\n"
     ]
    },
    {
     "name": "stderr",
     "output_type": "stream",
     "text": [
      "Epoch 7/54 - Training: 100%|██████████| 71/71 [03:16<00:00,  2.77s/batch, accuracy=0.892, loss=0.211]\n"
     ]
    },
    {
     "name": "stdout",
     "output_type": "stream",
     "text": [
      "Epoch 7/54, Loss: 0.2115, Accuracy: 0.8922\n"
     ]
    },
    {
     "name": "stderr",
     "output_type": "stream",
     "text": [
      "Epoch 7/54 - Validation: 100%|██████████| 18/18 [00:42<00:00,  2.37s/batch, accuracy=0.892, loss=0.219]\n"
     ]
    },
    {
     "name": "stdout",
     "output_type": "stream",
     "text": [
      "Validation Loss: 0.2188, Validation Accuracy: 0.8915\n"
     ]
    },
    {
     "name": "stderr",
     "output_type": "stream",
     "text": [
      "Epoch 8/54 - Training: 100%|██████████| 71/71 [03:15<00:00,  2.76s/batch, accuracy=0.892, loss=0.21] \n"
     ]
    },
    {
     "name": "stdout",
     "output_type": "stream",
     "text": [
      "Epoch 8/54, Loss: 0.2104, Accuracy: 0.8923\n"
     ]
    },
    {
     "name": "stderr",
     "output_type": "stream",
     "text": [
      "Epoch 8/54 - Validation: 100%|██████████| 18/18 [00:43<00:00,  2.40s/batch, accuracy=0.891, loss=0.212]\n"
     ]
    },
    {
     "name": "stdout",
     "output_type": "stream",
     "text": [
      "Validation Loss: 0.2118, Validation Accuracy: 0.8909\n"
     ]
    },
    {
     "name": "stderr",
     "output_type": "stream",
     "text": [
      "Epoch 9/54 - Training: 100%|██████████| 71/71 [03:17<00:00,  2.78s/batch, accuracy=0.891, loss=0.212]\n"
     ]
    },
    {
     "name": "stdout",
     "output_type": "stream",
     "text": [
      "Epoch 9/54, Loss: 0.2116, Accuracy: 0.8912\n"
     ]
    },
    {
     "name": "stderr",
     "output_type": "stream",
     "text": [
      "Epoch 9/54 - Validation: 100%|██████████| 18/18 [00:42<00:00,  2.38s/batch, accuracy=0.89, loss=0.214] \n"
     ]
    },
    {
     "name": "stdout",
     "output_type": "stream",
     "text": [
      "Validation Loss: 0.2144, Validation Accuracy: 0.8903\n",
      "Model weights saved at epoch 9\n"
     ]
    },
    {
     "name": "stderr",
     "output_type": "stream",
     "text": [
      "Epoch 10/54 - Training: 100%|██████████| 71/71 [03:16<00:00,  2.77s/batch, accuracy=0.892, loss=0.211]\n"
     ]
    },
    {
     "name": "stdout",
     "output_type": "stream",
     "text": [
      "Epoch 10/54, Loss: 0.2108, Accuracy: 0.8922\n"
     ]
    },
    {
     "name": "stderr",
     "output_type": "stream",
     "text": [
      "Epoch 10/54 - Validation: 100%|██████████| 18/18 [00:42<00:00,  2.38s/batch, accuracy=0.885, loss=0.227]\n"
     ]
    },
    {
     "name": "stdout",
     "output_type": "stream",
     "text": [
      "Validation Loss: 0.2270, Validation Accuracy: 0.8845\n"
     ]
    },
    {
     "name": "stderr",
     "output_type": "stream",
     "text": [
      "Epoch 11/54 - Training: 100%|██████████| 71/71 [03:15<00:00,  2.76s/batch, accuracy=0.89, loss=0.215] \n"
     ]
    },
    {
     "name": "stdout",
     "output_type": "stream",
     "text": [
      "Epoch 11/54, Loss: 0.2150, Accuracy: 0.8896\n"
     ]
    },
    {
     "name": "stderr",
     "output_type": "stream",
     "text": [
      "Epoch 11/54 - Validation: 100%|██████████| 18/18 [00:42<00:00,  2.37s/batch, accuracy=0.882, loss=0.229]\n"
     ]
    },
    {
     "name": "stdout",
     "output_type": "stream",
     "text": [
      "Validation Loss: 0.2288, Validation Accuracy: 0.8823\n"
     ]
    },
    {
     "name": "stderr",
     "output_type": "stream",
     "text": [
      "Epoch 12/54 - Training: 100%|██████████| 71/71 [03:14<00:00,  2.74s/batch, accuracy=0.89, loss=0.212] \n"
     ]
    },
    {
     "name": "stdout",
     "output_type": "stream",
     "text": [
      "Epoch 12/54, Loss: 0.2124, Accuracy: 0.8904\n"
     ]
    },
    {
     "name": "stderr",
     "output_type": "stream",
     "text": [
      "Epoch 12/54 - Validation: 100%|██████████| 18/18 [00:42<00:00,  2.34s/batch, accuracy=0.886, loss=0.226]\n"
     ]
    },
    {
     "name": "stdout",
     "output_type": "stream",
     "text": [
      "Validation Loss: 0.2260, Validation Accuracy: 0.8858\n",
      "Model weights saved at epoch 12\n"
     ]
    },
    {
     "name": "stderr",
     "output_type": "stream",
     "text": [
      "Epoch 13/54 - Training: 100%|██████████| 71/71 [03:14<00:00,  2.74s/batch, accuracy=0.893, loss=0.207]\n"
     ]
    },
    {
     "name": "stdout",
     "output_type": "stream",
     "text": [
      "Epoch 13/54, Loss: 0.2075, Accuracy: 0.8932\n"
     ]
    },
    {
     "name": "stderr",
     "output_type": "stream",
     "text": [
      "Epoch 13/54 - Validation: 100%|██████████| 18/18 [00:42<00:00,  2.36s/batch, accuracy=0.889, loss=0.217]\n"
     ]
    },
    {
     "name": "stdout",
     "output_type": "stream",
     "text": [
      "Validation Loss: 0.2168, Validation Accuracy: 0.8887\n"
     ]
    },
    {
     "name": "stderr",
     "output_type": "stream",
     "text": [
      "Epoch 14/54 - Training: 100%|██████████| 71/71 [03:14<00:00,  2.73s/batch, accuracy=0.89, loss=0.214] \n"
     ]
    },
    {
     "name": "stdout",
     "output_type": "stream",
     "text": [
      "Epoch 14/54, Loss: 0.2139, Accuracy: 0.8897\n"
     ]
    },
    {
     "name": "stderr",
     "output_type": "stream",
     "text": [
      "Epoch 14/54 - Validation: 100%|██████████| 18/18 [00:42<00:00,  2.35s/batch, accuracy=0.89, loss=0.215] \n"
     ]
    },
    {
     "name": "stdout",
     "output_type": "stream",
     "text": [
      "Validation Loss: 0.2150, Validation Accuracy: 0.8896\n"
     ]
    },
    {
     "name": "stderr",
     "output_type": "stream",
     "text": [
      "Epoch 15/54 - Training: 100%|██████████| 71/71 [03:14<00:00,  2.74s/batch, accuracy=0.892, loss=0.21] \n"
     ]
    },
    {
     "name": "stdout",
     "output_type": "stream",
     "text": [
      "Epoch 15/54, Loss: 0.2101, Accuracy: 0.8923\n"
     ]
    },
    {
     "name": "stderr",
     "output_type": "stream",
     "text": [
      "Epoch 15/54 - Validation: 100%|██████████| 18/18 [00:42<00:00,  2.38s/batch, accuracy=0.889, loss=0.216]\n"
     ]
    },
    {
     "name": "stdout",
     "output_type": "stream",
     "text": [
      "Validation Loss: 0.2157, Validation Accuracy: 0.8886\n",
      "Model weights saved at epoch 15\n"
     ]
    },
    {
     "name": "stderr",
     "output_type": "stream",
     "text": [
      "Epoch 16/54 - Training: 100%|██████████| 71/71 [03:15<00:00,  2.75s/batch, accuracy=0.89, loss=0.213] \n"
     ]
    },
    {
     "name": "stdout",
     "output_type": "stream",
     "text": [
      "Epoch 16/54, Loss: 0.2133, Accuracy: 0.8902\n"
     ]
    },
    {
     "name": "stderr",
     "output_type": "stream",
     "text": [
      "Epoch 16/54 - Validation: 100%|██████████| 18/18 [00:43<00:00,  2.39s/batch, accuracy=0.887, loss=0.22] \n"
     ]
    },
    {
     "name": "stdout",
     "output_type": "stream",
     "text": [
      "Validation Loss: 0.2200, Validation Accuracy: 0.8871\n"
     ]
    },
    {
     "name": "stderr",
     "output_type": "stream",
     "text": [
      "Epoch 17/54 - Training: 100%|██████████| 71/71 [03:15<00:00,  2.75s/batch, accuracy=0.893, loss=0.208]\n"
     ]
    },
    {
     "name": "stdout",
     "output_type": "stream",
     "text": [
      "Epoch 17/54, Loss: 0.2083, Accuracy: 0.8931\n"
     ]
    },
    {
     "name": "stderr",
     "output_type": "stream",
     "text": [
      "Epoch 17/54 - Validation: 100%|██████████| 18/18 [00:42<00:00,  2.36s/batch, accuracy=0.894, loss=0.205]\n"
     ]
    },
    {
     "name": "stdout",
     "output_type": "stream",
     "text": [
      "Validation Loss: 0.2049, Validation Accuracy: 0.8941\n"
     ]
    },
    {
     "name": "stderr",
     "output_type": "stream",
     "text": [
      "Epoch 18/54 - Training: 100%|██████████| 71/71 [03:15<00:00,  2.76s/batch, accuracy=0.891, loss=0.211]\n"
     ]
    },
    {
     "name": "stdout",
     "output_type": "stream",
     "text": [
      "Epoch 18/54, Loss: 0.2113, Accuracy: 0.8911\n"
     ]
    },
    {
     "name": "stderr",
     "output_type": "stream",
     "text": [
      "Epoch 18/54 - Validation: 100%|██████████| 18/18 [00:42<00:00,  2.39s/batch, accuracy=0.891, loss=0.214]\n"
     ]
    },
    {
     "name": "stdout",
     "output_type": "stream",
     "text": [
      "Validation Loss: 0.2139, Validation Accuracy: 0.8915\n",
      "Model weights saved at epoch 18\n"
     ]
    },
    {
     "name": "stderr",
     "output_type": "stream",
     "text": [
      "Epoch 19/54 - Training: 100%|██████████| 71/71 [03:16<00:00,  2.76s/batch, accuracy=0.892, loss=0.207]\n"
     ]
    },
    {
     "name": "stdout",
     "output_type": "stream",
     "text": [
      "Epoch 19/54, Loss: 0.2072, Accuracy: 0.8924\n"
     ]
    },
    {
     "name": "stderr",
     "output_type": "stream",
     "text": [
      "Epoch 19/54 - Validation: 100%|██████████| 18/18 [00:42<00:00,  2.37s/batch, accuracy=0.891, loss=0.213]\n"
     ]
    },
    {
     "name": "stdout",
     "output_type": "stream",
     "text": [
      "Validation Loss: 0.2128, Validation Accuracy: 0.8914\n"
     ]
    },
    {
     "name": "stderr",
     "output_type": "stream",
     "text": [
      "Epoch 20/54 - Training: 100%|██████████| 71/71 [03:16<00:00,  2.76s/batch, accuracy=0.893, loss=0.209]\n"
     ]
    },
    {
     "name": "stdout",
     "output_type": "stream",
     "text": [
      "Epoch 20/54, Loss: 0.2087, Accuracy: 0.8926\n"
     ]
    },
    {
     "name": "stderr",
     "output_type": "stream",
     "text": [
      "Epoch 20/54 - Validation: 100%|██████████| 18/18 [00:42<00:00,  2.35s/batch, accuracy=0.891, loss=0.213]\n"
     ]
    },
    {
     "name": "stdout",
     "output_type": "stream",
     "text": [
      "Validation Loss: 0.2127, Validation Accuracy: 0.8910\n"
     ]
    },
    {
     "name": "stderr",
     "output_type": "stream",
     "text": [
      "Epoch 21/54 - Training: 100%|██████████| 71/71 [03:19<00:00,  2.80s/batch, accuracy=0.891, loss=0.21] \n"
     ]
    },
    {
     "name": "stdout",
     "output_type": "stream",
     "text": [
      "Epoch 21/54, Loss: 0.2102, Accuracy: 0.8913\n"
     ]
    },
    {
     "name": "stderr",
     "output_type": "stream",
     "text": [
      "Epoch 21/54 - Validation: 100%|██████████| 18/18 [00:42<00:00,  2.36s/batch, accuracy=0.89, loss=0.213] \n"
     ]
    },
    {
     "name": "stdout",
     "output_type": "stream",
     "text": [
      "Validation Loss: 0.2125, Validation Accuracy: 0.8896\n",
      "Model weights saved at epoch 21\n"
     ]
    },
    {
     "name": "stderr",
     "output_type": "stream",
     "text": [
      "Epoch 22/54 - Training: 100%|██████████| 71/71 [03:17<00:00,  2.79s/batch, accuracy=0.892, loss=0.21] \n"
     ]
    },
    {
     "name": "stdout",
     "output_type": "stream",
     "text": [
      "Epoch 22/54, Loss: 0.2101, Accuracy: 0.8923\n"
     ]
    },
    {
     "name": "stderr",
     "output_type": "stream",
     "text": [
      "Epoch 22/54 - Validation: 100%|██████████| 18/18 [00:42<00:00,  2.39s/batch, accuracy=0.89, loss=0.216] \n"
     ]
    },
    {
     "name": "stdout",
     "output_type": "stream",
     "text": [
      "Validation Loss: 0.2159, Validation Accuracy: 0.8902\n"
     ]
    },
    {
     "name": "stderr",
     "output_type": "stream",
     "text": [
      "Epoch 23/54 - Training: 100%|██████████| 71/71 [03:17<00:00,  2.79s/batch, accuracy=0.893, loss=0.208]\n"
     ]
    },
    {
     "name": "stdout",
     "output_type": "stream",
     "text": [
      "Epoch 23/54, Loss: 0.2078, Accuracy: 0.8933\n"
     ]
    },
    {
     "name": "stderr",
     "output_type": "stream",
     "text": [
      "Epoch 23/54 - Validation: 100%|██████████| 18/18 [00:42<00:00,  2.38s/batch, accuracy=0.892, loss=0.21] \n"
     ]
    },
    {
     "name": "stdout",
     "output_type": "stream",
     "text": [
      "Validation Loss: 0.2104, Validation Accuracy: 0.8917\n"
     ]
    },
    {
     "name": "stderr",
     "output_type": "stream",
     "text": [
      "Epoch 24/54 - Training: 100%|██████████| 71/71 [03:18<00:00,  2.79s/batch, accuracy=0.894, loss=0.206]\n"
     ]
    },
    {
     "name": "stdout",
     "output_type": "stream",
     "text": [
      "Epoch 24/54, Loss: 0.2060, Accuracy: 0.8939\n"
     ]
    },
    {
     "name": "stderr",
     "output_type": "stream",
     "text": [
      "Epoch 24/54 - Validation: 100%|██████████| 18/18 [00:43<00:00,  2.43s/batch, accuracy=0.89, loss=0.213] \n"
     ]
    },
    {
     "name": "stdout",
     "output_type": "stream",
     "text": [
      "Validation Loss: 0.2130, Validation Accuracy: 0.8903\n",
      "Model weights saved at epoch 24\n"
     ]
    },
    {
     "name": "stderr",
     "output_type": "stream",
     "text": [
      "Epoch 25/54 - Training: 100%|██████████| 71/71 [03:19<00:00,  2.81s/batch, accuracy=0.893, loss=0.208]\n"
     ]
    },
    {
     "name": "stdout",
     "output_type": "stream",
     "text": [
      "Epoch 25/54, Loss: 0.2077, Accuracy: 0.8926\n"
     ]
    },
    {
     "name": "stderr",
     "output_type": "stream",
     "text": [
      "Epoch 25/54 - Validation: 100%|██████████| 18/18 [00:43<00:00,  2.42s/batch, accuracy=0.889, loss=0.215]\n"
     ]
    },
    {
     "name": "stdout",
     "output_type": "stream",
     "text": [
      "Validation Loss: 0.2152, Validation Accuracy: 0.8891\n"
     ]
    },
    {
     "name": "stderr",
     "output_type": "stream",
     "text": [
      "Epoch 26/54 - Training: 100%|██████████| 71/71 [03:18<00:00,  2.80s/batch, accuracy=0.893, loss=0.21] \n"
     ]
    },
    {
     "name": "stdout",
     "output_type": "stream",
     "text": [
      "Epoch 26/54, Loss: 0.2102, Accuracy: 0.8926\n"
     ]
    },
    {
     "name": "stderr",
     "output_type": "stream",
     "text": [
      "Epoch 26/54 - Validation: 100%|██████████| 18/18 [00:43<00:00,  2.43s/batch, accuracy=0.892, loss=0.211]\n"
     ]
    },
    {
     "name": "stdout",
     "output_type": "stream",
     "text": [
      "Validation Loss: 0.2108, Validation Accuracy: 0.8916\n"
     ]
    },
    {
     "name": "stderr",
     "output_type": "stream",
     "text": [
      "Epoch 27/54 - Training: 100%|██████████| 71/71 [03:16<00:00,  2.77s/batch, accuracy=0.891, loss=0.21] \n"
     ]
    },
    {
     "name": "stdout",
     "output_type": "stream",
     "text": [
      "Epoch 27/54, Loss: 0.2101, Accuracy: 0.8913\n"
     ]
    },
    {
     "name": "stderr",
     "output_type": "stream",
     "text": [
      "Epoch 27/54 - Validation: 100%|██████████| 18/18 [00:43<00:00,  2.40s/batch, accuracy=0.882, loss=0.227]\n"
     ]
    },
    {
     "name": "stdout",
     "output_type": "stream",
     "text": [
      "Validation Loss: 0.2272, Validation Accuracy: 0.8823\n",
      "Model weights saved at epoch 27\n"
     ]
    },
    {
     "name": "stderr",
     "output_type": "stream",
     "text": [
      "Epoch 28/54 - Training: 100%|██████████| 71/71 [03:17<00:00,  2.78s/batch, accuracy=0.892, loss=0.21] \n"
     ]
    },
    {
     "name": "stdout",
     "output_type": "stream",
     "text": [
      "Epoch 28/54, Loss: 0.2102, Accuracy: 0.8921\n"
     ]
    },
    {
     "name": "stderr",
     "output_type": "stream",
     "text": [
      "Epoch 28/54 - Validation: 100%|██████████| 18/18 [00:42<00:00,  2.39s/batch, accuracy=0.889, loss=0.215]\n"
     ]
    },
    {
     "name": "stdout",
     "output_type": "stream",
     "text": [
      "Validation Loss: 0.2149, Validation Accuracy: 0.8885\n"
     ]
    },
    {
     "name": "stderr",
     "output_type": "stream",
     "text": [
      "Epoch 29/54 - Training: 100%|██████████| 71/71 [03:17<00:00,  2.78s/batch, accuracy=0.893, loss=0.205]\n"
     ]
    },
    {
     "name": "stdout",
     "output_type": "stream",
     "text": [
      "Epoch 29/54, Loss: 0.2052, Accuracy: 0.8926\n"
     ]
    },
    {
     "name": "stderr",
     "output_type": "stream",
     "text": [
      "Epoch 29/54 - Validation: 100%|██████████| 18/18 [00:43<00:00,  2.41s/batch, accuracy=0.893, loss=0.206]\n"
     ]
    },
    {
     "name": "stdout",
     "output_type": "stream",
     "text": [
      "Validation Loss: 0.2059, Validation Accuracy: 0.8934\n"
     ]
    },
    {
     "name": "stderr",
     "output_type": "stream",
     "text": [
      "Epoch 30/54 - Training: 100%|██████████| 71/71 [03:17<00:00,  2.78s/batch, accuracy=0.894, loss=0.204]\n"
     ]
    },
    {
     "name": "stdout",
     "output_type": "stream",
     "text": [
      "Epoch 30/54, Loss: 0.2042, Accuracy: 0.8944\n"
     ]
    },
    {
     "name": "stderr",
     "output_type": "stream",
     "text": [
      "Epoch 30/54 - Validation: 100%|██████████| 18/18 [00:43<00:00,  2.39s/batch, accuracy=0.887, loss=0.219]\n"
     ]
    },
    {
     "name": "stdout",
     "output_type": "stream",
     "text": [
      "Validation Loss: 0.2192, Validation Accuracy: 0.8875\n",
      "Model weights saved at epoch 30\n"
     ]
    },
    {
     "name": "stderr",
     "output_type": "stream",
     "text": [
      "Epoch 31/54 - Training: 100%|██████████| 71/71 [03:18<00:00,  2.79s/batch, accuracy=0.894, loss=0.203]\n"
     ]
    },
    {
     "name": "stdout",
     "output_type": "stream",
     "text": [
      "Epoch 31/54, Loss: 0.2033, Accuracy: 0.8942\n"
     ]
    },
    {
     "name": "stderr",
     "output_type": "stream",
     "text": [
      "Epoch 31/54 - Validation: 100%|██████████| 18/18 [00:42<00:00,  2.38s/batch, accuracy=0.895, loss=0.203]\n"
     ]
    },
    {
     "name": "stdout",
     "output_type": "stream",
     "text": [
      "Validation Loss: 0.2033, Validation Accuracy: 0.8950\n"
     ]
    },
    {
     "name": "stderr",
     "output_type": "stream",
     "text": [
      "Epoch 32/54 - Training: 100%|██████████| 71/71 [03:17<00:00,  2.78s/batch, accuracy=0.893, loss=0.208]\n"
     ]
    },
    {
     "name": "stdout",
     "output_type": "stream",
     "text": [
      "Epoch 32/54, Loss: 0.2084, Accuracy: 0.8927\n"
     ]
    },
    {
     "name": "stderr",
     "output_type": "stream",
     "text": [
      "Epoch 32/54 - Validation: 100%|██████████| 18/18 [00:43<00:00,  2.40s/batch, accuracy=0.887, loss=0.22] \n"
     ]
    },
    {
     "name": "stdout",
     "output_type": "stream",
     "text": [
      "Validation Loss: 0.2203, Validation Accuracy: 0.8872\n"
     ]
    },
    {
     "name": "stderr",
     "output_type": "stream",
     "text": [
      "Epoch 33/54 - Training: 100%|██████████| 71/71 [03:17<00:00,  2.79s/batch, accuracy=0.892, loss=0.209]\n"
     ]
    },
    {
     "name": "stdout",
     "output_type": "stream",
     "text": [
      "Epoch 33/54, Loss: 0.2089, Accuracy: 0.8915\n"
     ]
    },
    {
     "name": "stderr",
     "output_type": "stream",
     "text": [
      "Epoch 33/54 - Validation: 100%|██████████| 18/18 [00:42<00:00,  2.38s/batch, accuracy=0.885, loss=0.224]\n"
     ]
    },
    {
     "name": "stdout",
     "output_type": "stream",
     "text": [
      "Validation Loss: 0.2245, Validation Accuracy: 0.8848\n",
      "Model weights saved at epoch 33\n"
     ]
    },
    {
     "name": "stderr",
     "output_type": "stream",
     "text": [
      "Epoch 34/54 - Training: 100%|██████████| 71/71 [03:17<00:00,  2.78s/batch, accuracy=0.894, loss=0.205]\n"
     ]
    },
    {
     "name": "stdout",
     "output_type": "stream",
     "text": [
      "Epoch 34/54, Loss: 0.2045, Accuracy: 0.8937\n"
     ]
    },
    {
     "name": "stderr",
     "output_type": "stream",
     "text": [
      "Epoch 34/54 - Validation: 100%|██████████| 18/18 [00:43<00:00,  2.42s/batch, accuracy=0.887, loss=0.222]\n"
     ]
    },
    {
     "name": "stdout",
     "output_type": "stream",
     "text": [
      "Validation Loss: 0.2217, Validation Accuracy: 0.8868\n"
     ]
    },
    {
     "name": "stderr",
     "output_type": "stream",
     "text": [
      "Epoch 35/54 - Training: 100%|██████████| 71/71 [03:16<00:00,  2.76s/batch, accuracy=0.892, loss=0.208]\n"
     ]
    },
    {
     "name": "stdout",
     "output_type": "stream",
     "text": [
      "Epoch 35/54, Loss: 0.2085, Accuracy: 0.8917\n"
     ]
    },
    {
     "name": "stderr",
     "output_type": "stream",
     "text": [
      "Epoch 35/54 - Validation: 100%|██████████| 18/18 [00:43<00:00,  2.40s/batch, accuracy=0.892, loss=0.207]\n"
     ]
    },
    {
     "name": "stdout",
     "output_type": "stream",
     "text": [
      "Validation Loss: 0.2073, Validation Accuracy: 0.8917\n"
     ]
    },
    {
     "name": "stderr",
     "output_type": "stream",
     "text": [
      "Epoch 36/54 - Training: 100%|██████████| 71/71 [03:18<00:00,  2.80s/batch, accuracy=0.894, loss=0.203]\n"
     ]
    },
    {
     "name": "stdout",
     "output_type": "stream",
     "text": [
      "Epoch 36/54, Loss: 0.2028, Accuracy: 0.8936\n"
     ]
    },
    {
     "name": "stderr",
     "output_type": "stream",
     "text": [
      "Epoch 36/54 - Validation: 100%|██████████| 18/18 [00:42<00:00,  2.37s/batch, accuracy=0.89, loss=0.212] \n"
     ]
    },
    {
     "name": "stdout",
     "output_type": "stream",
     "text": [
      "Validation Loss: 0.2121, Validation Accuracy: 0.8903\n",
      "Model weights saved at epoch 36\n"
     ]
    },
    {
     "name": "stderr",
     "output_type": "stream",
     "text": [
      "Epoch 37/54 - Training: 100%|██████████| 71/71 [03:16<00:00,  2.77s/batch, accuracy=0.894, loss=0.203]\n"
     ]
    },
    {
     "name": "stdout",
     "output_type": "stream",
     "text": [
      "Epoch 37/54, Loss: 0.2031, Accuracy: 0.8942\n"
     ]
    },
    {
     "name": "stderr",
     "output_type": "stream",
     "text": [
      "Epoch 37/54 - Validation: 100%|██████████| 18/18 [00:42<00:00,  2.39s/batch, accuracy=0.896, loss=0.2]  \n"
     ]
    },
    {
     "name": "stdout",
     "output_type": "stream",
     "text": [
      "Validation Loss: 0.2003, Validation Accuracy: 0.8964\n"
     ]
    },
    {
     "name": "stderr",
     "output_type": "stream",
     "text": [
      "Epoch 38/54 - Training: 100%|██████████| 71/71 [03:17<00:00,  2.78s/batch, accuracy=0.891, loss=0.209]\n"
     ]
    },
    {
     "name": "stdout",
     "output_type": "stream",
     "text": [
      "Epoch 38/54, Loss: 0.2094, Accuracy: 0.8912\n"
     ]
    },
    {
     "name": "stderr",
     "output_type": "stream",
     "text": [
      "Epoch 38/54 - Validation: 100%|██████████| 18/18 [00:42<00:00,  2.37s/batch, accuracy=0.887, loss=0.218]\n"
     ]
    },
    {
     "name": "stdout",
     "output_type": "stream",
     "text": [
      "Validation Loss: 0.2184, Validation Accuracy: 0.8870\n"
     ]
    },
    {
     "name": "stderr",
     "output_type": "stream",
     "text": [
      "Epoch 39/54 - Training: 100%|██████████| 71/71 [03:16<00:00,  2.77s/batch, accuracy=0.895, loss=0.201]\n"
     ]
    },
    {
     "name": "stdout",
     "output_type": "stream",
     "text": [
      "Epoch 39/54, Loss: 0.2009, Accuracy: 0.8946\n"
     ]
    },
    {
     "name": "stderr",
     "output_type": "stream",
     "text": [
      "Epoch 39/54 - Validation: 100%|██████████| 18/18 [00:42<00:00,  2.37s/batch, accuracy=0.892, loss=0.213]\n"
     ]
    },
    {
     "name": "stdout",
     "output_type": "stream",
     "text": [
      "Validation Loss: 0.2126, Validation Accuracy: 0.8916\n",
      "Model weights saved at epoch 39\n"
     ]
    },
    {
     "name": "stderr",
     "output_type": "stream",
     "text": [
      "Epoch 40/54 - Training: 100%|██████████| 71/71 [03:16<00:00,  2.77s/batch, accuracy=0.893, loss=0.204]\n"
     ]
    },
    {
     "name": "stdout",
     "output_type": "stream",
     "text": [
      "Epoch 40/54, Loss: 0.2041, Accuracy: 0.8935\n"
     ]
    },
    {
     "name": "stderr",
     "output_type": "stream",
     "text": [
      "Epoch 40/54 - Validation: 100%|██████████| 18/18 [00:43<00:00,  2.41s/batch, accuracy=0.887, loss=0.22] \n"
     ]
    },
    {
     "name": "stdout",
     "output_type": "stream",
     "text": [
      "Validation Loss: 0.2205, Validation Accuracy: 0.8867\n"
     ]
    },
    {
     "name": "stderr",
     "output_type": "stream",
     "text": [
      "Epoch 41/54 - Training: 100%|██████████| 71/71 [03:17<00:00,  2.79s/batch, accuracy=0.895, loss=0.202]\n"
     ]
    },
    {
     "name": "stdout",
     "output_type": "stream",
     "text": [
      "Epoch 41/54, Loss: 0.2016, Accuracy: 0.8953\n"
     ]
    },
    {
     "name": "stderr",
     "output_type": "stream",
     "text": [
      "Epoch 41/54 - Validation: 100%|██████████| 18/18 [00:43<00:00,  2.42s/batch, accuracy=0.89, loss=0.212] \n"
     ]
    },
    {
     "name": "stdout",
     "output_type": "stream",
     "text": [
      "Validation Loss: 0.2122, Validation Accuracy: 0.8904\n"
     ]
    },
    {
     "name": "stderr",
     "output_type": "stream",
     "text": [
      "Epoch 42/54 - Training: 100%|██████████| 71/71 [03:18<00:00,  2.80s/batch, accuracy=0.895, loss=0.202]\n"
     ]
    },
    {
     "name": "stdout",
     "output_type": "stream",
     "text": [
      "Epoch 42/54, Loss: 0.2017, Accuracy: 0.8950\n"
     ]
    },
    {
     "name": "stderr",
     "output_type": "stream",
     "text": [
      "Epoch 42/54 - Validation: 100%|██████████| 18/18 [00:42<00:00,  2.38s/batch, accuracy=0.891, loss=0.209]\n"
     ]
    },
    {
     "name": "stdout",
     "output_type": "stream",
     "text": [
      "Validation Loss: 0.2088, Validation Accuracy: 0.8907\n",
      "Model weights saved at epoch 42\n"
     ]
    },
    {
     "name": "stderr",
     "output_type": "stream",
     "text": [
      "Epoch 43/54 - Training: 100%|██████████| 71/71 [03:16<00:00,  2.77s/batch, accuracy=0.893, loss=0.204]\n"
     ]
    },
    {
     "name": "stdout",
     "output_type": "stream",
     "text": [
      "Epoch 43/54, Loss: 0.2045, Accuracy: 0.8930\n"
     ]
    },
    {
     "name": "stderr",
     "output_type": "stream",
     "text": [
      "Epoch 43/54 - Validation: 100%|██████████| 18/18 [00:43<00:00,  2.43s/batch, accuracy=0.891, loss=0.21] \n"
     ]
    },
    {
     "name": "stdout",
     "output_type": "stream",
     "text": [
      "Validation Loss: 0.2105, Validation Accuracy: 0.8914\n"
     ]
    },
    {
     "name": "stderr",
     "output_type": "stream",
     "text": [
      "Epoch 44/54 - Training: 100%|██████████| 71/71 [03:19<00:00,  2.80s/batch, accuracy=0.894, loss=0.204]\n"
     ]
    },
    {
     "name": "stdout",
     "output_type": "stream",
     "text": [
      "Epoch 44/54, Loss: 0.2043, Accuracy: 0.8938\n"
     ]
    },
    {
     "name": "stderr",
     "output_type": "stream",
     "text": [
      "Epoch 44/54 - Validation: 100%|██████████| 18/18 [00:43<00:00,  2.40s/batch, accuracy=0.89, loss=0.212] \n"
     ]
    },
    {
     "name": "stdout",
     "output_type": "stream",
     "text": [
      "Validation Loss: 0.2117, Validation Accuracy: 0.8904\n"
     ]
    },
    {
     "name": "stderr",
     "output_type": "stream",
     "text": [
      "Epoch 45/54 - Training: 100%|██████████| 71/71 [03:18<00:00,  2.79s/batch, accuracy=0.895, loss=0.2]  \n"
     ]
    },
    {
     "name": "stdout",
     "output_type": "stream",
     "text": [
      "Epoch 45/54, Loss: 0.2004, Accuracy: 0.8954\n"
     ]
    },
    {
     "name": "stderr",
     "output_type": "stream",
     "text": [
      "Epoch 45/54 - Validation: 100%|██████████| 18/18 [00:42<00:00,  2.38s/batch, accuracy=0.894, loss=0.198]\n"
     ]
    },
    {
     "name": "stdout",
     "output_type": "stream",
     "text": [
      "Validation Loss: 0.1981, Validation Accuracy: 0.8944\n",
      "Model weights saved at epoch 45\n"
     ]
    },
    {
     "name": "stderr",
     "output_type": "stream",
     "text": [
      "Epoch 46/54 - Training: 100%|██████████| 71/71 [03:21<00:00,  2.84s/batch, accuracy=0.894, loss=0.203]\n"
     ]
    },
    {
     "name": "stdout",
     "output_type": "stream",
     "text": [
      "Epoch 46/54, Loss: 0.2028, Accuracy: 0.8945\n"
     ]
    },
    {
     "name": "stderr",
     "output_type": "stream",
     "text": [
      "Epoch 46/54 - Validation: 100%|██████████| 18/18 [00:47<00:00,  2.62s/batch, accuracy=0.893, loss=0.207]\n"
     ]
    },
    {
     "name": "stdout",
     "output_type": "stream",
     "text": [
      "Validation Loss: 0.2065, Validation Accuracy: 0.8933\n"
     ]
    },
    {
     "name": "stderr",
     "output_type": "stream",
     "text": [
      "Epoch 47/54 - Training: 100%|██████████| 71/71 [03:27<00:00,  2.92s/batch, accuracy=0.897, loss=0.198]\n"
     ]
    },
    {
     "name": "stdout",
     "output_type": "stream",
     "text": [
      "Epoch 47/54, Loss: 0.1975, Accuracy: 0.8970\n"
     ]
    },
    {
     "name": "stderr",
     "output_type": "stream",
     "text": [
      "Epoch 47/54 - Validation: 100%|██████████| 18/18 [00:46<00:00,  2.59s/batch, accuracy=0.893, loss=0.206]\n"
     ]
    },
    {
     "name": "stdout",
     "output_type": "stream",
     "text": [
      "Validation Loss: 0.2060, Validation Accuracy: 0.8929\n"
     ]
    },
    {
     "name": "stderr",
     "output_type": "stream",
     "text": [
      "Epoch 48/54 - Training: 100%|██████████| 71/71 [03:25<00:00,  2.90s/batch, accuracy=0.893, loss=0.203]\n"
     ]
    },
    {
     "name": "stdout",
     "output_type": "stream",
     "text": [
      "Epoch 48/54, Loss: 0.2034, Accuracy: 0.8934\n"
     ]
    },
    {
     "name": "stderr",
     "output_type": "stream",
     "text": [
      "Epoch 48/54 - Validation: 100%|██████████| 18/18 [00:44<00:00,  2.46s/batch, accuracy=0.89, loss=0.212] \n"
     ]
    },
    {
     "name": "stdout",
     "output_type": "stream",
     "text": [
      "Validation Loss: 0.2115, Validation Accuracy: 0.8898\n",
      "Model weights saved at epoch 48\n"
     ]
    },
    {
     "name": "stderr",
     "output_type": "stream",
     "text": [
      "Epoch 49/54 - Training: 100%|██████████| 71/71 [03:20<00:00,  2.82s/batch, accuracy=0.895, loss=0.204]\n"
     ]
    },
    {
     "name": "stdout",
     "output_type": "stream",
     "text": [
      "Epoch 49/54, Loss: 0.2042, Accuracy: 0.8952\n"
     ]
    },
    {
     "name": "stderr",
     "output_type": "stream",
     "text": [
      "Epoch 49/54 - Validation: 100%|██████████| 18/18 [00:43<00:00,  2.44s/batch, accuracy=0.892, loss=0.216]\n"
     ]
    },
    {
     "name": "stdout",
     "output_type": "stream",
     "text": [
      "Validation Loss: 0.2165, Validation Accuracy: 0.8918\n"
     ]
    },
    {
     "name": "stderr",
     "output_type": "stream",
     "text": [
      "Epoch 50/54 - Training: 100%|██████████| 71/71 [03:20<00:00,  2.82s/batch, accuracy=0.895, loss=0.202]\n"
     ]
    },
    {
     "name": "stdout",
     "output_type": "stream",
     "text": [
      "Epoch 50/54, Loss: 0.2025, Accuracy: 0.8947\n"
     ]
    },
    {
     "name": "stderr",
     "output_type": "stream",
     "text": [
      "Epoch 50/54 - Validation: 100%|██████████| 18/18 [00:43<00:00,  2.41s/batch, accuracy=0.887, loss=0.217]\n"
     ]
    },
    {
     "name": "stdout",
     "output_type": "stream",
     "text": [
      "Validation Loss: 0.2175, Validation Accuracy: 0.8870\n"
     ]
    },
    {
     "name": "stderr",
     "output_type": "stream",
     "text": [
      "Epoch 51/54 - Training: 100%|██████████| 71/71 [03:18<00:00,  2.79s/batch, accuracy=0.896, loss=0.198]\n"
     ]
    },
    {
     "name": "stdout",
     "output_type": "stream",
     "text": [
      "Epoch 51/54, Loss: 0.1977, Accuracy: 0.8961\n"
     ]
    },
    {
     "name": "stderr",
     "output_type": "stream",
     "text": [
      "Epoch 51/54 - Validation: 100%|██████████| 18/18 [00:43<00:00,  2.40s/batch, accuracy=0.895, loss=0.202]\n"
     ]
    },
    {
     "name": "stdout",
     "output_type": "stream",
     "text": [
      "Validation Loss: 0.2018, Validation Accuracy: 0.8946\n",
      "Model weights saved at epoch 51\n"
     ]
    },
    {
     "name": "stderr",
     "output_type": "stream",
     "text": [
      "Epoch 52/54 - Training: 100%|██████████| 71/71 [03:18<00:00,  2.79s/batch, accuracy=0.893, loss=0.204]\n"
     ]
    },
    {
     "name": "stdout",
     "output_type": "stream",
     "text": [
      "Epoch 52/54, Loss: 0.2039, Accuracy: 0.8930\n"
     ]
    },
    {
     "name": "stderr",
     "output_type": "stream",
     "text": [
      "Epoch 52/54 - Validation: 100%|██████████| 18/18 [00:43<00:00,  2.40s/batch, accuracy=0.893, loss=0.207]\n"
     ]
    },
    {
     "name": "stdout",
     "output_type": "stream",
     "text": [
      "Validation Loss: 0.2074, Validation Accuracy: 0.8926\n"
     ]
    },
    {
     "name": "stderr",
     "output_type": "stream",
     "text": [
      "Epoch 53/54 - Training: 100%|██████████| 71/71 [03:18<00:00,  2.80s/batch, accuracy=0.895, loss=0.199]\n"
     ]
    },
    {
     "name": "stdout",
     "output_type": "stream",
     "text": [
      "Epoch 53/54, Loss: 0.1991, Accuracy: 0.8949\n"
     ]
    },
    {
     "name": "stderr",
     "output_type": "stream",
     "text": [
      "Epoch 53/54 - Validation: 100%|██████████| 18/18 [00:43<00:00,  2.41s/batch, accuracy=0.887, loss=0.22] \n"
     ]
    },
    {
     "name": "stdout",
     "output_type": "stream",
     "text": [
      "Validation Loss: 0.2198, Validation Accuracy: 0.8869\n"
     ]
    },
    {
     "name": "stderr",
     "output_type": "stream",
     "text": [
      "Epoch 54/54 - Training: 100%|██████████| 71/71 [03:17<00:00,  2.78s/batch, accuracy=0.897, loss=0.196]\n"
     ]
    },
    {
     "name": "stdout",
     "output_type": "stream",
     "text": [
      "Epoch 54/54, Loss: 0.1961, Accuracy: 0.8968\n"
     ]
    },
    {
     "name": "stderr",
     "output_type": "stream",
     "text": [
      "Epoch 54/54 - Validation: 100%|██████████| 18/18 [00:43<00:00,  2.43s/batch, accuracy=0.891, loss=0.213]\n"
     ]
    },
    {
     "name": "stdout",
     "output_type": "stream",
     "text": [
      "Validation Loss: 0.2131, Validation Accuracy: 0.8907\n",
      "Model weights saved at epoch 54\n"
     ]
    }
   ],
   "source": [
    "criterion = nn.BCEWithLogitsLoss()  \n",
    "optimizer = optim.Adam(model.parameters(), lr=1e-4)\n",
    "\n",
    "save_path = \"model/segmentation_weights.pth\"\n",
    "num_epochs = 54\n",
    "\n",
    "for epoch in range(num_epochs):\n",
    "    model.train()\n",
    "    running_loss = 0.0\n",
    "    running_corrects = 0\n",
    "    total = 0\n",
    "\n",
    "    with tqdm(train_loader, desc=f\"Epoch {epoch+1}/{num_epochs} - Training\", unit=\"batch\") as tepoch:\n",
    "        for inputs, masks in tepoch:\n",
    "            inputs, masks = inputs.to(device), masks.to(device)\n",
    "\n",
    "            optimizer.zero_grad()\n",
    "\n",
    "            outputs = model(inputs)\n",
    "            loss = criterion(outputs.squeeze(1), masks.float().squeeze(1))\n",
    "\n",
    "            loss.backward()\n",
    "            optimizer.step()\n",
    "\n",
    "            running_loss += loss.item()\n",
    "\n",
    "            preds = torch.round(torch.sigmoid(outputs))  \n",
    "            running_corrects += torch.sum(preds == masks).item()\n",
    "            total += inputs.size(0) * inputs.size(2) * inputs.size(3)\n",
    "\n",
    "            tepoch.set_postfix(loss=running_loss / (tepoch.n + 1), accuracy=running_corrects / total)\n",
    "\n",
    "    epoch_loss = running_loss / len(train_loader)\n",
    "    epoch_accuracy = running_corrects / total\n",
    "    print(f\"Epoch {epoch+1}/{num_epochs}, Loss: {epoch_loss:.4f}, Accuracy: {epoch_accuracy:.4f}\")\n",
    "\n",
    "    model.eval()\n",
    "    val_loss = 0.0\n",
    "    val_corrects = 0\n",
    "    val_total = 0\n",
    "    with torch.no_grad():\n",
    "        with tqdm(val_loader, desc=f\"Epoch {epoch+1}/{num_epochs} - Validation\", unit=\"batch\") as vepoch:\n",
    "            for inputs, masks in vepoch:\n",
    "                inputs, masks = inputs.cuda(), masks.cuda()\n",
    "\n",
    "                outputs = model(inputs)\n",
    "                loss = criterion(outputs.squeeze(1), masks.float().squeeze(1))\n",
    "\n",
    "                val_loss += loss.item()\n",
    "\n",
    "                preds = torch.round(torch.sigmoid(outputs)) \n",
    "                val_corrects += torch.sum(preds == masks).item()\n",
    "                val_total += inputs.size(0) * inputs.size(2) * inputs.size(3)\n",
    "\n",
    "                vepoch.set_postfix(loss=val_loss / (vepoch.n + 1), accuracy=val_corrects / val_total)\n",
    "\n",
    "    val_loss /= len(val_loader)\n",
    "    val_accuracy = val_corrects / val_total\n",
    "    print(f\"Validation Loss: {val_loss:.4f}, Validation Accuracy: {val_accuracy:.4f}\")\n",
    "\n",
    "    if (epoch + 1) % 3 == 0:\n",
    "        torch.save(model.state_dict(), save_path)\n",
    "        print(f\"Model weights saved at epoch {epoch+1}\")"
   ]
  },
  {
   "cell_type": "code",
   "execution_count": null,
   "metadata": {},
   "outputs": [],
   "source": []
  }
 ],
 "metadata": {
  "kernelspec": {
   "display_name": "Python 3 (ipykernel)",
   "language": "python",
   "name": "python3"
  }
 },
 "nbformat": 4,
 "nbformat_minor": 2
}
