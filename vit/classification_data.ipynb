{
 "cells": [
  {
   "cell_type": "markdown",
   "metadata": {},
   "source": [
    "# CLASSIFICATION DATA PREPROCESSING"
   ]
  },
  {
   "cell_type": "markdown",
   "metadata": {},
   "source": [
    "### Imports"
   ]
  },
  {
   "cell_type": "code",
   "execution_count": 1,
   "metadata": {},
   "outputs": [],
   "source": [
    "import pandas as pd\n",
    "import torch\n",
    "\n",
    "import os\n",
    "os.chdir(\"..\")\n",
    "\n",
    "from utils.classification_data import DataProcessor\n",
    "from utils.unet import UNet"
   ]
  },
  {
   "cell_type": "markdown",
   "metadata": {},
   "source": [
    "### Loading CSV"
   ]
  },
  {
   "cell_type": "code",
   "execution_count": 2,
   "metadata": {},
   "outputs": [
    {
     "data": {
      "text/html": [
       "<div>\n",
       "<style scoped>\n",
       "    .dataframe tbody tr th:only-of-type {\n",
       "        vertical-align: middle;\n",
       "    }\n",
       "\n",
       "    .dataframe tbody tr th {\n",
       "        vertical-align: top;\n",
       "    }\n",
       "\n",
       "    .dataframe thead th {\n",
       "        text-align: right;\n",
       "    }\n",
       "</style>\n",
       "<table border=\"1\" class=\"dataframe\">\n",
       "  <thead>\n",
       "    <tr style=\"text-align: right;\">\n",
       "      <th></th>\n",
       "      <th>patientId</th>\n",
       "      <th>class</th>\n",
       "    </tr>\n",
       "  </thead>\n",
       "  <tbody>\n",
       "    <tr>\n",
       "      <th>0</th>\n",
       "      <td>0004cfab-14fd-4e49-80ba-63a80b6bddd6</td>\n",
       "      <td>No Lung Opacity / Not Normal</td>\n",
       "    </tr>\n",
       "    <tr>\n",
       "      <th>1</th>\n",
       "      <td>00313ee0-9eaa-42f4-b0ab-c148ed3241cd</td>\n",
       "      <td>No Lung Opacity / Not Normal</td>\n",
       "    </tr>\n",
       "    <tr>\n",
       "      <th>2</th>\n",
       "      <td>00322d4d-1c29-4943-afc9-b6754be640eb</td>\n",
       "      <td>No Lung Opacity / Not Normal</td>\n",
       "    </tr>\n",
       "    <tr>\n",
       "      <th>3</th>\n",
       "      <td>003d8fa0-6bf1-40ed-b54c-ac657f8495c5</td>\n",
       "      <td>Normal</td>\n",
       "    </tr>\n",
       "    <tr>\n",
       "      <th>4</th>\n",
       "      <td>00436515-870c-4b36-a041-de91049b9ab4</td>\n",
       "      <td>Lung Opacity</td>\n",
       "    </tr>\n",
       "  </tbody>\n",
       "</table>\n",
       "</div>"
      ],
      "text/plain": [
       "                              patientId                         class\n",
       "0  0004cfab-14fd-4e49-80ba-63a80b6bddd6  No Lung Opacity / Not Normal\n",
       "1  00313ee0-9eaa-42f4-b0ab-c148ed3241cd  No Lung Opacity / Not Normal\n",
       "2  00322d4d-1c29-4943-afc9-b6754be640eb  No Lung Opacity / Not Normal\n",
       "3  003d8fa0-6bf1-40ed-b54c-ac657f8495c5                        Normal\n",
       "4  00436515-870c-4b36-a041-de91049b9ab4                  Lung Opacity"
      ]
     },
     "execution_count": 2,
     "metadata": {},
     "output_type": "execute_result"
    }
   ],
   "source": [
    "csv_file = \"data/clsif/stage_2_detailed_class_info.csv\"\n",
    "\n",
    "df = pd.read_csv(csv_file, sep=\",\")\n",
    "df.head()"
   ]
  },
  {
   "cell_type": "markdown",
   "metadata": {},
   "source": [
    "### Data Format Conversion"
   ]
  },
  {
   "cell_type": "code",
   "execution_count": 2,
   "metadata": {},
   "outputs": [],
   "source": [
    "# Initiate the data processor\n",
    "processor = DataProcessor()\n",
    "\n",
    "dir = \"data/clsif/stage_2_train_images\" \n",
    "processor.dcm_to_png(dir)"
   ]
  },
  {
   "cell_type": "markdown",
   "metadata": {},
   "source": [
    "### Training Data Reordering"
   ]
  },
  {
   "cell_type": "code",
   "execution_count": 4,
   "metadata": {},
   "outputs": [
    {
     "name": "stdout",
     "output_type": "stream",
     "text": [
      "Moved 26676 files.\n",
      "Skipped 3551 missing files.\n"
     ]
    }
   ],
   "source": [
    "input_dir = \"data/clsif/stage_2_train_images\" \n",
    "output_dirs = {\n",
    "    \"Normal\": \"data/clsif/train/normal\",\n",
    "    \"Lung Opacity\": \"data/clsif/train/pneumonia\",\n",
    "    \"No Lung Opacity / Not Normal\": \"data/clsif/train/unsure\"\n",
    "}\n",
    "\n",
    "processor.reorder_files(df, input_dir, output_dirs)"
   ]
  },
  {
   "cell_type": "markdown",
   "metadata": {},
   "source": [
    "### Validation Data Reordering"
   ]
  },
  {
   "cell_type": "code",
   "execution_count": 5,
   "metadata": {},
   "outputs": [
    {
     "name": "stdout",
     "output_type": "stream",
     "text": [
      "Moved 0 files.\n",
      "Skipped 30227 missing files.\n"
     ]
    }
   ],
   "source": [
    "output_dirs = {\n",
    "    \"Normal\": \"data/clsif/val/normal\",\n",
    "    \"Lung Opacity\": \"data/clsif/val/pneumonia\",\n",
    "    \"No Lung Opacity / Not Normal\": \"data/clsif/val/unsure\"\n",
    "}\n",
    "\n",
    "processor.reorder_files(df, input_dir, output_dirs)"
   ]
  },
  {
   "cell_type": "markdown",
   "metadata": {},
   "source": [
    "> Since there is no labels for `stage_2_test_images`, I will need to split the data from `stage_2_train_images` as described: `80%` train and `20%` validation data."
   ]
  },
  {
   "cell_type": "markdown",
   "metadata": {},
   "source": [
    "### Check the class distribution"
   ]
  },
  {
   "cell_type": "code",
   "execution_count": 3,
   "metadata": {},
   "outputs": [
    {
     "name": "stdout",
     "output_type": "stream",
     "text": [
      "data/clsif/train/normal: 8850 files (33.18%)\n",
      "data/clsif/train/pneumonia: 6010 files (22.53%)\n",
      "data/clsif/train/unsure: 11816 files (44.29%)\n",
      "\n",
      "Total files: 26676\n"
     ]
    }
   ],
   "source": [
    "dirs = [\n",
    "    \"data/clsif/train/normal\",\n",
    "    \"data/clsif/train/pneumonia\",\n",
    "    \"data/clsif/train/unsure\"\n",
    "]\n",
    "\n",
    "processor.data_distribution_info(dirs)"
   ]
  },
  {
   "cell_type": "markdown",
   "metadata": {},
   "source": [
    "### Splitting The Data"
   ]
  },
  {
   "cell_type": "code",
   "execution_count": 4,
   "metadata": {},
   "outputs": [
    {
     "name": "stdout",
     "output_type": "stream",
     "text": [
      "Moved 1770/8850 files from data/clsif/train/normal -> data/clsif/val/normal\n",
      "Moved 1202/6010 files from data/clsif/train/pneumonia -> data/clsif/val/pneumonia\n",
      "Moved 2364/11816 files from data/clsif/train/unsure -> data/clsif/val/unsure\n"
     ]
    }
   ],
   "source": [
    "train_dirs = {\n",
    "    \"normal\": \"data/clsif/train/normal\",\n",
    "    \"pneumonia\": \"data/clsif/train/pneumonia\",\n",
    "    \"unsure\": \"data/clsif/train/unsure\",\n",
    "}\n",
    "\n",
    "val_dirs = {\n",
    "    \"normal\": \"data/clsif/val/normal\",\n",
    "    \"pneumonia\": \"data/clsif/val/pneumonia\",\n",
    "    \"unsure\": \"data/clsif/val/unsure\",\n",
    "}\n",
    "\n",
    "processor.split_data(train_dirs, val_dirs)"
   ]
  },
  {
   "cell_type": "markdown",
   "metadata": {},
   "source": [
    "### Load The Segmentation Model"
   ]
  },
  {
   "cell_type": "code",
   "execution_count": 3,
   "metadata": {},
   "outputs": [
    {
     "name": "stdout",
     "output_type": "stream",
     "text": [
      "Pretrained weights loaded successfully!\n"
     ]
    }
   ],
   "source": [
    "model = UNet(in_channels=3, out_channels=1)\n",
    "device = torch.device(\"cuda\" if torch.cuda.is_available() else \"cpu\")\n",
    "model = model.to(device)\n",
    "model.load_state_dict(torch.load(\"model/segmentation_weights.pth\", map_location=device))\n",
    "print(\"Pretrained weights loaded successfully!\")"
   ]
  },
  {
   "cell_type": "code",
   "execution_count": 5,
   "metadata": {},
   "outputs": [
    {
     "name": "stdout",
     "output_type": "stream",
     "text": [
      "Data segmentation complete!\n",
      "Data segmentation complete!\n"
     ]
    }
   ],
   "source": [
    "train_dirs = {\n",
    "    \"normal\": \"data/clsif/train/normal\",\n",
    "    \"pneumonia\": \"data/clsif/train/pneumonia\",\n",
    "    \"unsure\": \"data/clsif/train/unsure\",\n",
    "}\n",
    "\n",
    "val_dirs = {\n",
    "    \"normal\": \"data/clsif/val/normal\",\n",
    "    \"pneumonia\": \"data/clsif/val/pneumonia\",\n",
    "    \"unsure\": \"data/clsif/val/unsure\",\n",
    "}\n",
    "\n",
    "DataProcessor.data_segmentation(train_dirs, model)\n",
    "DataProcessor.data_segmentation(val_dirs, model)"
   ]
  },
  {
   "cell_type": "code",
   "execution_count": null,
   "metadata": {},
   "outputs": [],
   "source": []
  }
 ],
 "metadata": {
  "kernelspec": {
   "display_name": "venv",
   "language": "python",
   "name": "python3"
  },
  "language_info": {
   "codemirror_mode": {
    "name": "ipython",
    "version": 3
   },
   "file_extension": ".py",
   "mimetype": "text/x-python",
   "name": "python",
   "nbconvert_exporter": "python",
   "pygments_lexer": "ipython3",
   "version": "3.12.1"
  }
 },
 "nbformat": 4,
 "nbformat_minor": 2
}
